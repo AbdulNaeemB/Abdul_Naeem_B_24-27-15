{
 "cells": [
  {
   "cell_type": "markdown",
   "id": "f38be07c",
   "metadata": {},
   "source": [
    "Abdul Naeem B\n",
    "24-27-15\n",
    "M.Tech Data Science\n",
    "Assignment 2"
   ]
  },
  {
   "cell_type": "code",
   "execution_count": 1,
   "id": "4afabb35",
   "metadata": {},
   "outputs": [],
   "source": [
    "import numpy as np\n",
    "import pandas as pd"
   ]
  },
  {
   "cell_type": "markdown",
   "id": "866c939c",
   "metadata": {},
   "source": [
    "Q1\n",
    "a) Create a variable named var1 that stores an array of numbers from 0 to 30,\n",
    "inclusive. Print var1 and its shape. Hint : arange\n",
    "b) Change var2 to a validly-shaped two-dimensional matrix and store it in a\n",
    "new variable called var2. Print var2 and its shape. Hint: Use the reshape function\n",
    "c) Create a third variable, var3 that reshapes it into a valid three-dimensional shape.\n",
    "Print var3 and its shape.\n",
    "d) Use two-dimensional array indexing to set the first value in the second row of var2\n",
    "to -1. Now look at var1 and var3. Did they change? Explain what’s\n",
    "going on. (Hint: does reshape return a view or a copy?)\n",
    "e) Another thing that comes up a lot with array shapes is thinking about how to\n",
    "aggregate over specific dimensions. Figure out how the NumPy sum function\n",
    "works (and the axis argument in particular) and do the following:\n",
    "(i) Sum var3 over its second dimension and print the result.\n",
    "(ii) Sum var3 over its third dimension and print the result.\n",
    "(iii) Sum var3 over both its first and third dimensions and print the result.\n",
    "f) Write code to do the following:\n",
    "(i) Slice out the second row of var2 and print it.\n",
    "(ii) Slice out the last column of var2 using the -1 notation and print it.\n",
    "(iii) Slice out the top right 2 × 2 submatrix of var2 and print it."
   ]
  },
  {
   "cell_type": "code",
   "execution_count": 53,
   "id": "a1d429e5",
   "metadata": {},
   "outputs": [],
   "source": [
    "var1 = np.arange(0,30)"
   ]
  },
  {
   "cell_type": "code",
   "execution_count": 54,
   "id": "90fde919",
   "metadata": {},
   "outputs": [
    {
     "data": {
      "text/plain": [
       "array([ 0,  1,  2,  3,  4,  5,  6,  7,  8,  9, 10, 11, 12, 13, 14, 15, 16,\n",
       "       17, 18, 19, 20, 21, 22, 23, 24, 25, 26, 27, 28, 29])"
      ]
     },
     "execution_count": 54,
     "metadata": {},
     "output_type": "execute_result"
    }
   ],
   "source": [
    "var1"
   ]
  },
  {
   "cell_type": "code",
   "execution_count": 55,
   "id": "962138a3",
   "metadata": {},
   "outputs": [
    {
     "data": {
      "text/plain": [
       "(30,)"
      ]
     },
     "execution_count": 55,
     "metadata": {},
     "output_type": "execute_result"
    }
   ],
   "source": [
    "var1.shape"
   ]
  },
  {
   "cell_type": "code",
   "execution_count": 56,
   "id": "31ece3ce",
   "metadata": {},
   "outputs": [],
   "source": [
    "var2 = np.reshape(var1,(5,6))"
   ]
  },
  {
   "cell_type": "code",
   "execution_count": 57,
   "id": "03b6a5ac",
   "metadata": {},
   "outputs": [
    {
     "data": {
      "text/plain": [
       "array([[ 0,  1,  2,  3,  4,  5],\n",
       "       [ 6,  7,  8,  9, 10, 11],\n",
       "       [12, 13, 14, 15, 16, 17],\n",
       "       [18, 19, 20, 21, 22, 23],\n",
       "       [24, 25, 26, 27, 28, 29]])"
      ]
     },
     "execution_count": 57,
     "metadata": {},
     "output_type": "execute_result"
    }
   ],
   "source": [
    "var2"
   ]
  },
  {
   "cell_type": "code",
   "execution_count": 58,
   "id": "4ae30138",
   "metadata": {},
   "outputs": [
    {
     "data": {
      "text/plain": [
       "(5, 6)"
      ]
     },
     "execution_count": 58,
     "metadata": {},
     "output_type": "execute_result"
    }
   ],
   "source": [
    "var2.shape"
   ]
  },
  {
   "cell_type": "code",
   "execution_count": 59,
   "id": "fd4972d7",
   "metadata": {},
   "outputs": [],
   "source": [
    "var3 = np.reshape(var2,(5,3,2))"
   ]
  },
  {
   "cell_type": "code",
   "execution_count": 60,
   "id": "13d66af1",
   "metadata": {},
   "outputs": [
    {
     "data": {
      "text/plain": [
       "array([[[ 0,  1],\n",
       "        [ 2,  3],\n",
       "        [ 4,  5]],\n",
       "\n",
       "       [[ 6,  7],\n",
       "        [ 8,  9],\n",
       "        [10, 11]],\n",
       "\n",
       "       [[12, 13],\n",
       "        [14, 15],\n",
       "        [16, 17]],\n",
       "\n",
       "       [[18, 19],\n",
       "        [20, 21],\n",
       "        [22, 23]],\n",
       "\n",
       "       [[24, 25],\n",
       "        [26, 27],\n",
       "        [28, 29]]])"
      ]
     },
     "execution_count": 60,
     "metadata": {},
     "output_type": "execute_result"
    }
   ],
   "source": [
    "var3"
   ]
  },
  {
   "cell_type": "code",
   "execution_count": 61,
   "id": "b05dbce3",
   "metadata": {},
   "outputs": [
    {
     "data": {
      "text/plain": [
       "(5, 3, 2)"
      ]
     },
     "execution_count": 61,
     "metadata": {},
     "output_type": "execute_result"
    }
   ],
   "source": [
    "var3.shape"
   ]
  },
  {
   "cell_type": "code",
   "execution_count": 63,
   "id": "be46a43e",
   "metadata": {},
   "outputs": [],
   "source": [
    "var2[1][0] = -1"
   ]
  },
  {
   "cell_type": "code",
   "execution_count": 64,
   "id": "7b43e6b3",
   "metadata": {},
   "outputs": [
    {
     "data": {
      "text/plain": [
       "array([[ 0,  1,  2,  3,  4,  5],\n",
       "       [-1,  7,  8,  9, 10, 11],\n",
       "       [12, 13, 14, 15, 16, 17],\n",
       "       [18, 19, 20, 21, 22, 23],\n",
       "       [24, 25, 26, 27, 28, 29]])"
      ]
     },
     "execution_count": 64,
     "metadata": {},
     "output_type": "execute_result"
    }
   ],
   "source": [
    "var2"
   ]
  },
  {
   "cell_type": "code",
   "execution_count": 67,
   "id": "26f01be9",
   "metadata": {},
   "outputs": [
    {
     "data": {
      "text/plain": [
       "array([ 0,  1,  2,  3,  4,  5, -1,  7,  8,  9, 10, 11, 12, 13, 14, 15, 16,\n",
       "       17, 18, 19, 20, 21, 22, 23, 24, 25, 26, 27, 28, 29])"
      ]
     },
     "execution_count": 67,
     "metadata": {},
     "output_type": "execute_result"
    }
   ],
   "source": [
    "var1"
   ]
  },
  {
   "cell_type": "code",
   "execution_count": 68,
   "id": "89f6cd01",
   "metadata": {},
   "outputs": [
    {
     "data": {
      "text/plain": [
       "array([[[ 0,  1],\n",
       "        [ 2,  3],\n",
       "        [ 4,  5]],\n",
       "\n",
       "       [[-1,  7],\n",
       "        [ 8,  9],\n",
       "        [10, 11]],\n",
       "\n",
       "       [[12, 13],\n",
       "        [14, 15],\n",
       "        [16, 17]],\n",
       "\n",
       "       [[18, 19],\n",
       "        [20, 21],\n",
       "        [22, 23]],\n",
       "\n",
       "       [[24, 25],\n",
       "        [26, 27],\n",
       "        [28, 29]]])"
      ]
     },
     "execution_count": 68,
     "metadata": {},
     "output_type": "execute_result"
    }
   ],
   "source": [
    "var3"
   ]
  },
  {
   "cell_type": "markdown",
   "id": "0370ed9b",
   "metadata": {},
   "source": [
    "Reshape does return a view so the value changes to the original"
   ]
  },
  {
   "cell_type": "code",
   "execution_count": 75,
   "id": "6a3c6dbb",
   "metadata": {},
   "outputs": [
    {
     "data": {
      "text/plain": [
       "array([[ 6,  9],\n",
       "       [17, 27],\n",
       "       [42, 45],\n",
       "       [60, 63],\n",
       "       [78, 81]])"
      ]
     },
     "execution_count": 75,
     "metadata": {},
     "output_type": "execute_result"
    }
   ],
   "source": [
    "np.sum(var3,axis=1)"
   ]
  },
  {
   "cell_type": "code",
   "execution_count": 77,
   "id": "71e9727d",
   "metadata": {},
   "outputs": [
    {
     "data": {
      "text/plain": [
       "array([[ 1,  5,  9],\n",
       "       [ 6, 17, 21],\n",
       "       [25, 29, 33],\n",
       "       [37, 41, 45],\n",
       "       [49, 53, 57]])"
      ]
     },
     "execution_count": 77,
     "metadata": {},
     "output_type": "execute_result"
    }
   ],
   "source": [
    "np.sum(var3,axis=2)"
   ]
  },
  {
   "cell_type": "code",
   "execution_count": 78,
   "id": "c89e788a",
   "metadata": {},
   "outputs": [
    {
     "data": {
      "text/plain": [
       "array([118, 145, 165])"
      ]
     },
     "execution_count": 78,
     "metadata": {},
     "output_type": "execute_result"
    }
   ],
   "source": [
    "np.sum(var3,axis=(0,2))"
   ]
  },
  {
   "cell_type": "code",
   "execution_count": 82,
   "id": "967dde12",
   "metadata": {},
   "outputs": [
    {
     "data": {
      "text/plain": [
       "array([-1,  7,  8,  9, 10, 11])"
      ]
     },
     "execution_count": 82,
     "metadata": {},
     "output_type": "execute_result"
    }
   ],
   "source": [
    "var2[1]"
   ]
  },
  {
   "cell_type": "code",
   "execution_count": 84,
   "id": "ae37ca38",
   "metadata": {},
   "outputs": [
    {
     "data": {
      "text/plain": [
       "array([ 5, 11, 17, 23, 29])"
      ]
     },
     "execution_count": 84,
     "metadata": {},
     "output_type": "execute_result"
    }
   ],
   "source": [
    "var2[:,-1]"
   ]
  },
  {
   "cell_type": "code",
   "execution_count": 89,
   "id": "6ccce683",
   "metadata": {},
   "outputs": [
    {
     "data": {
      "text/plain": [
       "array([[ 4,  5],\n",
       "       [10, 11]])"
      ]
     },
     "execution_count": 89,
     "metadata": {},
     "output_type": "execute_result"
    }
   ],
   "source": [
    "var2[:2,-2:]"
   ]
  },
  {
   "cell_type": "markdown",
   "id": "1dfbea57",
   "metadata": {},
   "source": [
    "Q2\n",
    "a) The most basic kind of broadcast is with a scalar, in which you can perform a\n",
    "binary operation (e.g., add, multiply, ...) on an array and a scalar, the effect is to\n",
    "perform that operation with the scalar for every element of the array. To try this\n",
    "out, create a vector 1, 2, . . . , 10 by adding 1 to the result of the arange function.\n",
    "b) Now, create a 10 × 10 matrix A in which Ai j = i + j. You’ll be able to do this\n",
    "using the vector you just created, and adding it to a reshaped version of itself.\n",
    "c) A very common use of broadcasting is to standardize data, i.e., to make it have\n",
    "zero mean and unit variance. First, create a fake “data set” with 50 examples,\n",
    "each with five dimensions.\n",
    "import numpy.random as npr\n",
    "data = np.exp(npr.randn ( 50 , 5 ) )\n",
    "d) You don’t worry too much about what this code is doing at this stage of the\n",
    "course, but for completeness: it imports the NumPy random number generation\n",
    "library, then generates a 50 × 5 matrix of standard normal random variates and exponentiates them. The effect of this is to have a pretend\n",
    "data set of 50 independent and identically-distributed vectors from a log-normal\n",
    "distribution.\n",
    "e) Now, compute the mean and standard deviation of each column. This should\n",
    "result in two vectors of length 5. You’ll need to think a little bit about how to use\n",
    "the axis argument to mean and std. Store these vectors into variables and print\n",
    "both of them.\n",
    "f) Now standardize the data matrix by 1) subtracting the mean off of each column,\n",
    "and 2) dividing each column by its standard deviation. Do this via broadcasting,\n",
    "and store the result in a matrix called normalized. To verify that you successfully\n",
    "did it, compute the mean and standard deviation of\n",
    "the columns of normalized and print them out."
   ]
  },
  {
   "cell_type": "code",
   "execution_count": 17,
   "id": "032b6bcb",
   "metadata": {},
   "outputs": [],
   "source": [
    "new_var1 = np.arange(10)"
   ]
  },
  {
   "cell_type": "code",
   "execution_count": 18,
   "id": "a6b80954",
   "metadata": {},
   "outputs": [
    {
     "data": {
      "text/plain": [
       "array([0, 1, 2, 3, 4, 5, 6, 7, 8, 9])"
      ]
     },
     "execution_count": 18,
     "metadata": {},
     "output_type": "execute_result"
    }
   ],
   "source": [
    "new_var1"
   ]
  },
  {
   "cell_type": "code",
   "execution_count": 23,
   "id": "a7e402ed",
   "metadata": {},
   "outputs": [],
   "source": [
    "new_var1 = new_var1+1"
   ]
  },
  {
   "cell_type": "code",
   "execution_count": 24,
   "id": "c033aed1",
   "metadata": {},
   "outputs": [
    {
     "data": {
      "text/plain": [
       "array([ 1,  2,  3,  4,  5,  6,  7,  8,  9, 10])"
      ]
     },
     "execution_count": 24,
     "metadata": {},
     "output_type": "execute_result"
    }
   ],
   "source": [
    "new_var1"
   ]
  },
  {
   "cell_type": "code",
   "execution_count": 25,
   "id": "7e6d3c8b",
   "metadata": {},
   "outputs": [],
   "source": [
    "matrix = new_var1 + np.reshape(new_var1,(10,1))"
   ]
  },
  {
   "cell_type": "code",
   "execution_count": 26,
   "id": "c08fb12a",
   "metadata": {},
   "outputs": [
    {
     "data": {
      "text/plain": [
       "array([[ 2,  3,  4,  5,  6,  7,  8,  9, 10, 11],\n",
       "       [ 3,  4,  5,  6,  7,  8,  9, 10, 11, 12],\n",
       "       [ 4,  5,  6,  7,  8,  9, 10, 11, 12, 13],\n",
       "       [ 5,  6,  7,  8,  9, 10, 11, 12, 13, 14],\n",
       "       [ 6,  7,  8,  9, 10, 11, 12, 13, 14, 15],\n",
       "       [ 7,  8,  9, 10, 11, 12, 13, 14, 15, 16],\n",
       "       [ 8,  9, 10, 11, 12, 13, 14, 15, 16, 17],\n",
       "       [ 9, 10, 11, 12, 13, 14, 15, 16, 17, 18],\n",
       "       [10, 11, 12, 13, 14, 15, 16, 17, 18, 19],\n",
       "       [11, 12, 13, 14, 15, 16, 17, 18, 19, 20]])"
      ]
     },
     "execution_count": 26,
     "metadata": {},
     "output_type": "execute_result"
    }
   ],
   "source": [
    "matrix"
   ]
  },
  {
   "cell_type": "code",
   "execution_count": 55,
   "id": "3c544304",
   "metadata": {},
   "outputs": [],
   "source": [
    "data = np.exp(np.random.randn(50,5))"
   ]
  },
  {
   "cell_type": "code",
   "execution_count": 56,
   "id": "cf7c70ff",
   "metadata": {},
   "outputs": [
    {
     "data": {
      "text/plain": [
       "array([[ 0.26997292,  0.11579961,  0.86849538,  3.21533479, 10.7408329 ],\n",
       "       [ 0.16676773,  1.21346898,  0.41911035,  3.16040047,  0.97741163],\n",
       "       [ 2.97058237,  3.61463836,  0.88204056,  0.73663802,  2.70343879],\n",
       "       [ 8.07307765,  0.20229469,  0.43769401,  0.33447606,  2.21623335],\n",
       "       [ 4.06125156,  2.29147231,  0.96692146,  0.96119696,  0.08224161],\n",
       "       [ 4.6236921 ,  0.22268981,  1.01680155,  0.77687994,  0.75132984],\n",
       "       [ 1.34594178,  1.03751885,  0.50581821,  1.48701679,  0.63130166],\n",
       "       [ 1.86656545,  3.80551413,  1.17202691,  0.45761372,  0.4531393 ],\n",
       "       [ 0.93707209,  1.52649947,  2.1661852 ,  0.95047752,  0.98175865],\n",
       "       [ 0.35688613,  0.46476873,  0.77715987,  0.9243357 ,  1.08999304],\n",
       "       [ 0.92334376,  0.52662065,  0.63758081,  1.55999896,  0.33361562],\n",
       "       [ 0.76090607,  0.35617596,  0.3620507 ,  0.25718388,  0.71901332],\n",
       "       [ 1.51694001,  0.87039329,  0.55187223,  2.49367821,  0.57267356],\n",
       "       [ 3.37066793,  0.34244941,  0.51478744,  0.51425933,  0.76673279],\n",
       "       [ 2.40386046,  0.4997831 ,  0.78320482, 15.46856423,  0.10898584],\n",
       "       [ 0.37611044,  3.79895003,  0.27084286,  4.62787319,  2.76548146],\n",
       "       [ 5.06962968,  0.47902216,  0.65329395,  0.38170287,  0.12611972],\n",
       "       [ 0.54585348,  0.15731341,  0.52113034,  3.47434409,  1.97110599],\n",
       "       [ 0.44076941,  0.18490142,  0.56047633,  0.27126735,  2.64807067],\n",
       "       [ 0.88942114,  1.17115948,  1.14619312,  0.32646352,  0.74198949],\n",
       "       [11.65571954,  0.45916667,  0.63921714,  0.75901966,  0.11939233],\n",
       "       [ 0.1062784 ,  5.16617398,  0.23874338,  0.48281616,  0.26447802],\n",
       "       [ 0.87901301,  0.36917048,  5.9016042 ,  1.55819852,  0.44486792],\n",
       "       [ 0.56103717,  5.56822037,  1.06955207,  0.77899983,  0.47290262],\n",
       "       [ 0.31913088,  0.46792399,  1.61510922,  3.87861302,  0.36969777],\n",
       "       [ 1.04356247,  1.2468763 ,  1.07641045,  1.17809006,  0.81572733],\n",
       "       [ 3.07131083,  0.36689154,  2.45490142,  5.52534957,  0.77933888],\n",
       "       [ 2.24788969,  0.29747174,  1.11976499,  0.66028455,  0.83145288],\n",
       "       [ 2.41792874,  1.45321263,  0.38802688,  2.58644614,  0.35608509],\n",
       "       [ 0.60472753,  3.1839946 ,  1.97188326,  0.25325565,  1.30964849],\n",
       "       [ 1.5369631 ,  2.32559675,  0.84338824,  4.28117661,  4.25265516],\n",
       "       [ 0.76926858,  0.84677654,  0.63420763,  1.95096802,  2.36128571],\n",
       "       [ 2.72795492,  1.54997524,  0.84732337,  0.53346709,  0.65565703],\n",
       "       [ 4.7080529 ,  0.61839821,  0.29912989,  0.08480192,  7.26471497],\n",
       "       [ 1.12777874, 13.09234758,  0.91894955,  0.27338191,  0.16666871],\n",
       "       [ 0.46930965,  0.26091188,  0.05660702,  0.53974243,  1.15161853],\n",
       "       [ 0.29289918,  0.27497916,  1.61473119,  1.01002215,  2.62204876],\n",
       "       [ 3.14414728,  0.53882601,  1.2838061 ,  9.44534091,  0.94634968],\n",
       "       [ 0.1358676 ,  0.24786313,  1.12515873,  0.20870843,  3.03743475],\n",
       "       [ 0.27378627,  1.68374697,  4.31570026,  1.00569157,  0.85682102],\n",
       "       [ 0.36732689,  0.56649932,  1.07208114,  0.65203623,  0.46101184],\n",
       "       [ 0.78240781,  1.14762353,  2.10593375,  1.61598747,  0.58009452],\n",
       "       [ 0.44836548,  0.96708595,  0.4977299 ,  0.79117867,  1.61599737],\n",
       "       [ 1.74869562,  4.07966053,  7.76400391,  2.54726066,  1.04186781],\n",
       "       [ 1.48935068,  0.50068546,  2.02046111,  3.67449154,  0.4055167 ],\n",
       "       [ 0.16593844,  3.31076231,  1.25014224,  0.60155884,  0.90932661],\n",
       "       [ 0.33494772,  0.59385796,  2.45108443,  1.20073995,  0.98214134],\n",
       "       [ 1.68749277,  2.8123009 ,  1.29090474,  0.35497317,  1.8501363 ],\n",
       "       [ 0.99970609,  1.40923963,  0.47541199,  2.18041881,  0.91237115],\n",
       "       [ 4.57169442,  0.72974504,  1.16114493,  0.57611076,  0.89191417]])"
      ]
     },
     "execution_count": 56,
     "metadata": {},
     "output_type": "execute_result"
    }
   ],
   "source": [
    "data"
   ]
  },
  {
   "cell_type": "code",
   "execution_count": 57,
   "id": "3baaec19",
   "metadata": {},
   "outputs": [
    {
     "data": {
      "text/plain": [
       "array([1.83315729, 1.58034837, 1.27433598, 1.87137672, 1.40221385])"
      ]
     },
     "execution_count": 57,
     "metadata": {},
     "output_type": "execute_result"
    }
   ],
   "source": [
    "mean = np.mean(data,axis=0)\n",
    "mean"
   ]
  },
  {
   "cell_type": "code",
   "execution_count": 58,
   "id": "6795dd66",
   "metadata": {},
   "outputs": [
    {
     "data": {
      "text/plain": [
       "array([2.15555836, 2.13490241, 1.36501722, 2.59385198, 1.82142127])"
      ]
     },
     "execution_count": 58,
     "metadata": {},
     "output_type": "execute_result"
    }
   ],
   "source": [
    "std = np.std(data,axis=0)\n",
    "std"
   ]
  },
  {
   "cell_type": "code",
   "execution_count": 59,
   "id": "6b610b25",
   "metadata": {},
   "outputs": [
    {
     "data": {
      "text/plain": [
       "array([[-0.72518768, -0.68600267, -0.29731537,  0.51813214,  5.12710552],\n",
       "       [-0.77306632, -0.17184832, -0.62653102,  0.49695348, -0.23322568],\n",
       "       [ 0.52767074,  0.9528726 , -0.28739229, -0.43747242,  0.71440087],\n",
       "       [ 2.89480465, -0.6454879 , -0.61291679, -0.59251672,  0.44691445],\n",
       "       [ 1.03365064,  0.33309436, -0.22520926, -0.35089888, -0.72469355],\n",
       "       [ 1.29457632, -0.63593472, -0.18866754, -0.42195807, -0.35734952],\n",
       "       [-0.22602752, -0.25426432, -0.56300958, -0.14818113, -0.42324761],\n",
       "       [ 0.01549861,  1.04227985, -0.07495075, -0.54504382, -0.52106263],\n",
       "       [-0.41570909, -0.02522312,  0.65336114, -0.35503152, -0.23083907],\n",
       "       [-0.68486717, -0.52254362, -0.36422699, -0.36510989, -0.17141603],\n",
       "       [-0.42207789, -0.49357184, -0.46648142, -0.12004454, -0.58668373],\n",
       "       [-0.49743548, -0.57340907, -0.66833244, -0.62231494, -0.37509199],\n",
       "       [-0.14669855, -0.33254685, -0.5292708 ,  0.23991403, -0.45543571],\n",
       "       [ 0.7132772 , -0.57983866, -0.5564388 , -0.52320541, -0.34889296],\n",
       "       [ 0.26475886, -0.5061427 , -0.35979851,  5.24208306, -0.71001038],\n",
       "       [-0.67594869,  1.03920519, -0.73515052,  1.06270385,  0.74846365],\n",
       "       [ 1.50145431, -0.51586724, -0.45497011, -0.57430951, -0.70060351],\n",
       "       [-0.59720202, -0.66655738, -0.55179204,  0.61798722,  0.31233419],\n",
       "       [-0.6459523 , -0.653635  , -0.52296751, -0.61688538,  0.68400256],\n",
       "       [-0.43781517, -0.19166632, -0.09387637, -0.59560577, -0.36247758],\n",
       "       [ 4.55685285, -0.52516766, -0.46528266, -0.42884369, -0.70429699],\n",
       "       [-0.80112834,  1.67962039, -0.75866633, -0.5353276 , -0.62464178],\n",
       "       [-0.44264368, -0.56732237,  3.38989731, -0.12073865, -0.5256038 ],\n",
       "       [-0.59015805,  1.86794113, -0.15002295, -0.4211408 , -0.51021213],\n",
       "       [-0.70238247, -0.52106568,  0.24964757,  0.77384381, -0.56687385],\n",
       "       [-0.3663064 , -0.15620014, -0.14499856, -0.26728074, -0.32199389],\n",
       "       [ 0.57440038, -0.56838983,  0.86487219,  1.40870523, -0.34197194],\n",
       "       [ 0.19240138, -0.60090645, -0.1132374 , -0.46690874, -0.31336022],\n",
       "       [ 0.27128537, -0.05955108, -0.6493025 ,  0.27567858, -0.57434751],\n",
       "       [-0.56988936,  0.7511567 ,  0.51101719, -0.62382938, -0.0508204 ],\n",
       "       [-0.1374095 ,  0.34907843, -0.31570865,  0.92904295,  1.56495444],\n",
       "       [-0.49355598, -0.34360907, -0.46895259,  0.0306846 ,  0.52655137],\n",
       "       [ 0.41511176, -0.01422694, -0.3128258 , -0.5158003 , -0.40987598],\n",
       "       [ 1.33371272, -0.45058273, -0.71442768, -0.68877284,  3.21864097],\n",
       "       [-0.32723705,  5.39228359, -0.26035307, -0.61607016, -0.67834123],\n",
       "       [-0.632712  , -0.61803129, -0.89209788, -0.51338099, -0.1375823 ],\n",
       "       [-0.7145518 , -0.6114421 ,  0.24937063, -0.33207545,  0.66971597],\n",
       "       [ 0.60819044, -0.48785478,  0.00693773,  2.91996778, -0.25027937],\n",
       "       [-0.78740141, -0.62414339, -0.10928599, -0.64100354,  0.89777193],\n",
       "       [-0.7234186 ,  0.04843248,  2.22807758, -0.33374501, -0.29943256],\n",
       "       [-0.68002353, -0.47489246, -0.14817018, -0.47008869, -0.51674043],\n",
       "       [-0.48746046, -0.20269069,  0.60922144, -0.09845945, -0.45136144],\n",
       "       [-0.64242835, -0.28725548, -0.56893501, -0.41644553,  0.11737181],\n",
       "       [-0.0391832 ,  1.17069153,  4.75427549,  0.26057152, -0.19783784],\n",
       "       [-0.15949771, -0.50572003,  0.54660492,  0.69514947, -0.54720847],\n",
       "       [-0.77345104,  0.81053539, -0.01772413, -0.48954909, -0.27060584],\n",
       "       [-0.69504477, -0.46207752,  0.86207589, -0.25854859, -0.23062897],\n",
       "       [-0.06757624,  0.57705333,  0.01213813, -0.58461453,  0.24591919],\n",
       "       [-0.38665211, -0.08014827, -0.58528492,  0.11914408, -0.26893433],\n",
       "       [ 1.27045371, -0.39842726, -0.08292281, -0.49936001, -0.28016566]])"
      ]
     },
     "execution_count": 59,
     "metadata": {},
     "output_type": "execute_result"
    }
   ],
   "source": [
    "norm_data = (data - mean) / std\n",
    "norm_data"
   ]
  },
  {
   "cell_type": "code",
   "execution_count": 63,
   "id": "1217138c",
   "metadata": {},
   "outputs": [
    {
     "data": {
      "text/plain": [
       "array([-1.42108547e-16, -4.32986980e-17, -9.18709553e-17, -1.22124533e-17,\n",
       "        3.33066907e-18])"
      ]
     },
     "execution_count": 63,
     "metadata": {},
     "output_type": "execute_result"
    }
   ],
   "source": [
    "norm_mean = np.mean(norm_data,axis=0)\n",
    "norm_mean"
   ]
  },
  {
   "cell_type": "code",
   "execution_count": 61,
   "id": "cfff5233",
   "metadata": {},
   "outputs": [
    {
     "data": {
      "text/plain": [
       "array([1., 1., 1., 1., 1.])"
      ]
     },
     "execution_count": 61,
     "metadata": {},
     "output_type": "execute_result"
    }
   ],
   "source": [
    "norm_std = np.std(norm_data,axis=0)\n",
    "norm_std"
   ]
  },
  {
   "cell_type": "code",
   "execution_count": null,
   "id": "4ada5dfc",
   "metadata": {},
   "outputs": [],
   "source": []
  },
  {
   "cell_type": "markdown",
   "id": "365ba1cd",
   "metadata": {},
   "source": [
    "Q3\n",
    "a) A Vandermonde matrix is a matrix generated from a vector in which each column\n",
    "of the matrix is an integer power starting from zero. So, if I have a column vector\n",
    "[x1, x2, . . . , xN]\n",
    "T\n",
    ", then the associated (square) Vandermonde matrix would be\n",
    "\n",
    "Use what you learned about broadcasting in the previous problem to write a\n",
    "function that will produce a Vandermonde matrix for a vector [1, 2, . . . ,N]T\n",
    "for\n",
    "\n",
    "any N. Do it without using a loop. Here’s a stub to get you started:\n",
    "def vandermonde (N):\n",
    "vec = np.arange (N) +1\n",
    "Use your function for N = 12, store it in variable named vander, and print the\n",
    "result.\n",
    "b) Now, let’s make a pretend linear system problem with this matrix. Create a vector\n",
    "of all ones, of length 12 and call it x. Perform a matrix-vector multiplication of\n",
    "vander with the vector you just created and store that in a new vector and call it b.\n",
    "Print the vector b.\n",
    "c) First, solve the linear system the naïve way, pretending like you don’t know x.\n",
    "Import numpy.linalg, invert V and multiply it by b. Print out your result. What\n",
    "should you get for your answer? If the answer is different than what you\n",
    "expected, write a sentence about that difference.\n",
    "d) Now, solve the same linear system using solve. Print out the result. Does it seem\n",
    "more or less in line with what you’d expect?"
   ]
  },
  {
   "cell_type": "code",
   "execution_count": 23,
   "id": "0682a379",
   "metadata": {},
   "outputs": [],
   "source": [
    "def vandermonde(N):\n",
    "    vec = np.arange(1,N+1)\n",
    "    vander_matrix = vec[:, np.newaxis] ** np.arange(N)\n",
    "    return vander_matrix"
   ]
  },
  {
   "cell_type": "code",
   "execution_count": 75,
   "id": "7391e7bb",
   "metadata": {},
   "outputs": [
    {
     "name": "stdout",
     "output_type": "stream",
     "text": [
      "[[          1           1           1           1           1           1\n",
      "            1           1           1           1           1           1]\n",
      " [          1           2           4           8          16          32\n",
      "           64         128         256         512        1024        2048]\n",
      " [          1           3           9          27          81         243\n",
      "          729        2187        6561       19683       59049      177147]\n",
      " [          1           4          16          64         256        1024\n",
      "         4096       16384       65536      262144     1048576     4194304]\n",
      " [          1           5          25         125         625        3125\n",
      "        15625       78125      390625     1953125     9765625    48828125]\n",
      " [          1           6          36         216        1296        7776\n",
      "        46656      279936     1679616    10077696    60466176   362797056]\n",
      " [          1           7          49         343        2401       16807\n",
      "       117649      823543     5764801    40353607   282475249  1977326743]\n",
      " [          1           8          64         512        4096       32768\n",
      "       262144     2097152    16777216   134217728  1073741824           0]\n",
      " [          1           9          81         729        6561       59049\n",
      "       531441     4782969    43046721   387420489  -808182895  1316288537]\n",
      " [          1          10         100        1000       10000      100000\n",
      "      1000000    10000000   100000000  1000000000  1410065408  1215752192]\n",
      " [          1          11         121        1331       14641      161051\n",
      "      1771561    19487171   214358881 -1937019605   167620825  1843829075]\n",
      " [          1          12         144        1728       20736      248832\n",
      "      2985984    35831808   429981696   864813056  1787822080   -20971520]]\n"
     ]
    }
   ],
   "source": [
    "vander = vandermonde(12)\n",
    "print(vander)"
   ]
  },
  {
   "cell_type": "code",
   "execution_count": 77,
   "id": "a90b67a3",
   "metadata": {},
   "outputs": [],
   "source": [
    "x = np.ones(12)"
   ]
  },
  {
   "cell_type": "code",
   "execution_count": 78,
   "id": "e0c800b9",
   "metadata": {},
   "outputs": [
    {
     "data": {
      "text/plain": [
       "array([1., 1., 1., 1., 1., 1., 1., 1., 1., 1., 1., 1.])"
      ]
     },
     "execution_count": 78,
     "metadata": {},
     "output_type": "execute_result"
    }
   ],
   "source": [
    "x"
   ]
  },
  {
   "cell_type": "code",
   "execution_count": 79,
   "id": "b4c387bb",
   "metadata": {},
   "outputs": [],
   "source": [
    "b = np.dot(vander,x)"
   ]
  },
  {
   "cell_type": "code",
   "execution_count": 80,
   "id": "f3e4f03a",
   "metadata": {},
   "outputs": [
    {
     "data": {
      "text/plain": [
       "array([1.20000000e+01, 4.09500000e+03, 2.65720000e+05, 5.59240500e+06,\n",
       "       6.10351560e+07, 4.35356467e+08, 2.30688120e+09, 1.22713351e+09,\n",
       "       9.43953692e+08, 3.73692871e+09, 3.10225064e+08, 3.10073456e+09])"
      ]
     },
     "execution_count": 80,
     "metadata": {},
     "output_type": "execute_result"
    }
   ],
   "source": [
    "b"
   ]
  },
  {
   "cell_type": "code",
   "execution_count": 81,
   "id": "100d2299",
   "metadata": {},
   "outputs": [],
   "source": [
    "v_inv = np.linalg.inv(vander)\n",
    "x_solved = np.dot(v_inv,b)"
   ]
  },
  {
   "cell_type": "code",
   "execution_count": 82,
   "id": "10fa1af6",
   "metadata": {},
   "outputs": [
    {
     "data": {
      "text/plain": [
       "array([1.00000572, 0.99735641, 1.00311279, 0.999506  , 1.00002861,\n",
       "       0.99999857, 1.0000001 , 1.        , 1.        , 1.        ,\n",
       "       1.        , 1.        ])"
      ]
     },
     "execution_count": 82,
     "metadata": {},
     "output_type": "execute_result"
    }
   ],
   "source": [
    "x_solved"
   ]
  },
  {
   "cell_type": "markdown",
   "id": "08779d81",
   "metadata": {},
   "source": [
    "It is due to the inherent numerical presicion issues in the inverion of the matrix, especially with large matrices which causes slight deviation from the expected solution of an array of all 1's"
   ]
  },
  {
   "cell_type": "code",
   "execution_count": 83,
   "id": "9b93d6a6",
   "metadata": {},
   "outputs": [
    {
     "data": {
      "text/plain": [
       "array([1.00000067, 0.99999715, 1.00000411, 0.99999733, 1.00000089,\n",
       "       0.99999984, 1.00000002, 1.        , 1.        , 1.        ,\n",
       "       1.        , 1.        ])"
      ]
     },
     "execution_count": 83,
     "metadata": {},
     "output_type": "execute_result"
    }
   ],
   "source": [
    "x_solved2 = np.linalg.solve(vander,b)\n",
    "x_solved2"
   ]
  },
  {
   "cell_type": "code",
   "execution_count": 84,
   "id": "4f824c35",
   "metadata": {},
   "outputs": [
    {
     "data": {
      "text/plain": [
       "array([ 5.05639097e-06, -2.64073753e-03,  3.10868088e-03, -4.91328773e-04,\n",
       "        2.77174300e-05, -1.26618616e-06,  8.74412640e-08, -2.82150814e-09,\n",
       "        8.21880342e-11, -1.77635684e-15,  6.66133815e-16,  2.22044605e-16])"
      ]
     },
     "execution_count": 84,
     "metadata": {},
     "output_type": "execute_result"
    }
   ],
   "source": [
    "closeness = np.subtract(x_solved,x_solved2)\n",
    "closeness"
   ]
  },
  {
   "cell_type": "markdown",
   "id": "42318eab",
   "metadata": {},
   "source": [
    "Github Repository Link - https://github.com/AbdulNaeemB/Abdul_Naeem_B_24-27-15/blob/1a89f225f5a4559271f4545cbbeb383e9244f350/Assn2_Abdul_Naeem_B_24-27-15.ipynb"
   ]
  }
 ],
 "metadata": {
  "kernelspec": {
   "display_name": "Python 3 (ipykernel)",
   "language": "python",
   "name": "python3"
  },
  "language_info": {
   "codemirror_mode": {
    "name": "ipython",
    "version": 3
   },
   "file_extension": ".py",
   "mimetype": "text/x-python",
   "name": "python",
   "nbconvert_exporter": "python",
   "pygments_lexer": "ipython3",
   "version": "3.11.5"
  }
 },
 "nbformat": 4,
 "nbformat_minor": 5
}
